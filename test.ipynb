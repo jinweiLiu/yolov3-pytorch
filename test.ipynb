{
 "metadata": {
  "language_info": {
   "codemirror_mode": {
    "name": "ipython",
    "version": 3
   },
   "file_extension": ".py",
   "mimetype": "text/x-python",
   "name": "python",
   "nbconvert_exporter": "python",
   "pygments_lexer": "ipython3",
   "version": "3.7.0-final"
  },
  "orig_nbformat": 2,
  "kernelspec": {
   "name": "python3",
   "display_name": "Python 3",
   "language": "python"
  }
 },
 "nbformat": 4,
 "nbformat_minor": 2,
 "cells": [
  {
   "cell_type": "code",
   "execution_count": 5,
   "metadata": {},
   "outputs": [
    {
     "output_type": "stream",
     "name": "stdout",
     "text": [
      "x=\n",
      " tensor([[[[ 0,  1],\n",
      "          [ 2,  3]],\n",
      "\n",
      "         [[ 4,  5],\n",
      "          [ 6,  7]]],\n",
      "\n",
      "\n",
      "        [[[ 8,  9],\n",
      "          [10, 11]],\n",
      "\n",
      "         [[12, 13],\n",
      "          [14, 15]]]])\n",
      "a=\n",
      " tensor([[[[ 4,  5],\n",
      "          [ 6,  7]],\n",
      "\n",
      "         [[ 0,  1],\n",
      "          [ 2,  3]]],\n",
      "\n",
      "\n",
      "        [[[12, 13],\n",
      "          [14, 15]],\n",
      "\n",
      "         [[ 8,  9],\n",
      "          [10, 11]]]])\n"
     ]
    }
   ],
   "source": [
    "import torch\n",
    "x = torch.arange(16).view(2, 2, 2,2)\n",
    "print('x=\\n',x)\n",
    "a = torch.flip(x, [1])\n",
    "print('a=\\n',a)"
   ]
  },
  {
   "cell_type": "code",
   "execution_count": null,
   "metadata": {},
   "outputs": [],
   "source": []
  }
 ]
}